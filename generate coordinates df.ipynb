{
 "cells": [
  {
   "cell_type": "code",
   "execution_count": 1,
   "metadata": {},
   "outputs": [
    {
     "name": "stderr",
     "output_type": "stream",
     "text": [
      "Using TensorFlow backend.\n",
      "/home/ashish/Documents/UCD/InsightCentre/VirtualEnvironments/multits/lib/python3.7/site-packages/tensorflow/python/framework/dtypes.py:526: FutureWarning: Passing (type, 1) or '1type' as a synonym of type is deprecated; in a future version of numpy, it will be understood as (type, (1,)) / '(1,)type'.\n",
      "  _np_qint8 = np.dtype([(\"qint8\", np.int8, 1)])\n",
      "/home/ashish/Documents/UCD/InsightCentre/VirtualEnvironments/multits/lib/python3.7/site-packages/tensorflow/python/framework/dtypes.py:527: FutureWarning: Passing (type, 1) or '1type' as a synonym of type is deprecated; in a future version of numpy, it will be understood as (type, (1,)) / '(1,)type'.\n",
      "  _np_quint8 = np.dtype([(\"quint8\", np.uint8, 1)])\n",
      "/home/ashish/Documents/UCD/InsightCentre/VirtualEnvironments/multits/lib/python3.7/site-packages/tensorflow/python/framework/dtypes.py:528: FutureWarning: Passing (type, 1) or '1type' as a synonym of type is deprecated; in a future version of numpy, it will be understood as (type, (1,)) / '(1,)type'.\n",
      "  _np_qint16 = np.dtype([(\"qint16\", np.int16, 1)])\n",
      "/home/ashish/Documents/UCD/InsightCentre/VirtualEnvironments/multits/lib/python3.7/site-packages/tensorflow/python/framework/dtypes.py:529: FutureWarning: Passing (type, 1) or '1type' as a synonym of type is deprecated; in a future version of numpy, it will be understood as (type, (1,)) / '(1,)type'.\n",
      "  _np_quint16 = np.dtype([(\"quint16\", np.uint16, 1)])\n",
      "/home/ashish/Documents/UCD/InsightCentre/VirtualEnvironments/multits/lib/python3.7/site-packages/tensorflow/python/framework/dtypes.py:530: FutureWarning: Passing (type, 1) or '1type' as a synonym of type is deprecated; in a future version of numpy, it will be understood as (type, (1,)) / '(1,)type'.\n",
      "  _np_qint32 = np.dtype([(\"qint32\", np.int32, 1)])\n",
      "/home/ashish/Documents/UCD/InsightCentre/VirtualEnvironments/multits/lib/python3.7/site-packages/tensorflow/python/framework/dtypes.py:535: FutureWarning: Passing (type, 1) or '1type' as a synonym of type is deprecated; in a future version of numpy, it will be understood as (type, (1,)) / '(1,)type'.\n",
      "  np_resource = np.dtype([(\"resource\", np.ubyte, 1)])\n"
     ]
    }
   ],
   "source": [
    "import os\n",
    "import sys\n",
    "import argparse\n",
    "import cv2\n",
    "import time\n",
    "from config_reader import config_reader\n",
    "from processing import extract_parts, draw\n",
    "\n",
    "from model.cmu_model import get_testing_model\n",
    "\n",
    "sys.path.append(os.path.join(os.path.dirname(os.path.abspath('')), \"..\"))\n",
    "\n",
    "currentDT = time.localtime()\n",
    "start_datetime = time.strftime(\"-%m-%d-%H-%M-%S\", currentDT)"
   ]
  },
  {
   "cell_type": "code",
   "execution_count": 2,
   "metadata": {},
   "outputs": [],
   "source": [
    "keras_weights_file = \"model.h5\"\n",
    "frame_rate_ratio = 1\n",
    "process_speed = 4\n",
    "ending_frame = None"
   ]
  },
  {
   "cell_type": "code",
   "execution_count": null,
   "metadata": {},
   "outputs": [],
   "source": [
    "ffmpeg_extract_subclip(\"/home/ashish/Downloads/P2 Frontal 2.MP4\", 1021.0, 1030, targetname=\"test.mp4\")\n"
   ]
  },
  {
   "cell_type": "code",
   "execution_count": 30,
   "metadata": {},
   "outputs": [],
   "source": [
    "# Video input\n",
    "video = \"/home/ashish/Downloads/HumanPose/Binh_VideoDataset_June2019/TimeSeries_Exp4/test.mp4\"\n",
    "video_file = video\n",
    "\n",
    "# Output location\n",
    "output_path = 'videos/coordinates/'"
   ]
  },
  {
   "cell_type": "code",
   "execution_count": 31,
   "metadata": {},
   "outputs": [],
   "source": [
    "# vgg normalization (subtracting mean) on input images\n",
    "model = get_testing_model()\n",
    "model.load_weights(keras_weights_file)\n",
    "params, model_params = config_reader()\n"
   ]
  },
  {
   "cell_type": "code",
   "execution_count": 32,
   "metadata": {},
   "outputs": [],
   "source": [
    "# Video reader\n",
    "cam = cv2.VideoCapture(video_file)\n",
    "input_fps = cam.get(cv2.CAP_PROP_FPS)\n",
    "ret_val, orig_image = cam.read()\n",
    "video_length = int(cam.get(cv2.CAP_PROP_FRAME_COUNT))\n",
    "\n",
    "if ending_frame is None:\n",
    "    ending_frame = video_length"
   ]
  },
  {
   "cell_type": "code",
   "execution_count": 34,
   "metadata": {},
   "outputs": [],
   "source": [
    "xc = []\n",
    "yc = []\n",
    "cc = []"
   ]
  },
  {
   "cell_type": "code",
   "execution_count": 35,
   "metadata": {},
   "outputs": [
    {
     "data": {
      "text/plain": [
       "4"
      ]
     },
     "execution_count": 35,
     "metadata": {},
     "output_type": "execute_result"
    }
   ],
   "source": [
    "process_speed"
   ]
  },
  {
   "cell_type": "code",
   "execution_count": 36,
   "metadata": {},
   "outputs": [
    {
     "name": "stdout",
     "output_type": "stream",
     "text": [
      "Processing frame:  0\n",
      "processing time is 5.19527\n"
     ]
    }
   ],
   "source": [
    "scale_search = [1]  # [.5, 1, 1.5, 2]\n",
    "scale_search = scale_search[0:process_speed]\n",
    "\n",
    "params['scale_search'] = scale_search\n",
    "\n",
    "i = 0  # default is 0\n",
    "while(cam.isOpened()) and ret_val is True and i < ending_frame:\n",
    "    if i % frame_rate_ratio == 0:\n",
    "\n",
    "        input_image = cv2.cvtColor(orig_image, cv2.COLOR_RGB2BGR)\n",
    "\n",
    "        tic = time.time()\n",
    "\n",
    "        # generate image with body parts\n",
    "        body_parts, all_peaks, subset, candidate = extract_parts(input_image, params, model, model_params)\n",
    "\n",
    "        print('Processing frame: ', i)\n",
    "        toc = time.time()\n",
    "        print('processing time is %.5f' % (toc - tic))\n",
    "        cc.append(body_parts)\n",
    "\n",
    "    ret_val, orig_image = cam.read()\n",
    "\n",
    "    i += 1\n",
    "    \n",
    "    break"
   ]
  },
  {
   "cell_type": "code",
   "execution_count": 29,
   "metadata": {},
   "outputs": [
    {
     "data": {
      "text/plain": [
       "18"
      ]
     },
     "execution_count": 29,
     "metadata": {},
     "output_type": "execute_result"
    }
   ],
   "source": []
  },
  {
   "cell_type": "code",
   "execution_count": 10,
   "metadata": {},
   "outputs": [
    {
     "data": {
      "text/plain": [
       "241"
      ]
     },
     "execution_count": 10,
     "metadata": {},
     "output_type": "execute_result"
    }
   ],
   "source": [
    "len(cc)"
   ]
  },
  {
   "cell_type": "code",
   "execution_count": 11,
   "metadata": {},
   "outputs": [],
   "source": [
    "import pickle"
   ]
  },
  {
   "cell_type": "code",
   "execution_count": 12,
   "metadata": {},
   "outputs": [],
   "source": [
    "with open('./cc.pkl', 'wb') as f:\n",
    "    pickle.dump(cc, f)   # pickle.dump(cc, f)"
   ]
  },
  {
   "cell_type": "code",
   "execution_count": 13,
   "metadata": {},
   "outputs": [
    {
     "data": {
      "text/plain": [
       "{'nose': (871, 304),\n",
       " 'neck': (854, 324),\n",
       " 'right_shoulder': (839, 320),\n",
       " ' right_elbow': (626, 415),\n",
       " 'right_wrist': (391, 354),\n",
       " 'left_shoulder': (870, 329),\n",
       " 'left_elbow': (726, 431),\n",
       " 'left_wrist': (691, 416),\n",
       " 'right_hip': (651, 413),\n",
       " 'right_knee': (629, 449),\n",
       " 'right_ankle': (630, 517),\n",
       " 'left_hip': (691, 413),\n",
       " 'left_knee': (705, 448),\n",
       " 'left_ankle': (708, 514),\n",
       " 'right_eye': (868, 297),\n",
       " 'left_eye': (876, 302),\n",
       " 'right_ear': (857, 294),\n",
       " 'left_ear': (687, 363)}"
      ]
     },
     "execution_count": 13,
     "metadata": {},
     "output_type": "execute_result"
    }
   ],
   "source": [
    "cc[0]"
   ]
  },
  {
   "cell_type": "code",
   "execution_count": 14,
   "metadata": {},
   "outputs": [],
   "source": [
    "import pandas as pd"
   ]
  },
  {
   "cell_type": "code",
   "execution_count": 21,
   "metadata": {},
   "outputs": [],
   "source": [
    "xx = [{k:v[0] for k,v in d.items()} for d in cc]\n",
    "yy = [{k:v[1] for k,v in d.items()} for d in cc]"
   ]
  },
  {
   "cell_type": "code",
   "execution_count": 26,
   "metadata": {},
   "outputs": [
    {
     "data": {
      "text/plain": [
       "{'nose': 304,\n",
       " 'neck': 324,\n",
       " 'right_shoulder': 320,\n",
       " ' right_elbow': 415,\n",
       " 'right_wrist': 354,\n",
       " 'left_shoulder': 329,\n",
       " 'left_elbow': 431,\n",
       " 'left_wrist': 416,\n",
       " 'right_hip': 413,\n",
       " 'right_knee': 449,\n",
       " 'right_ankle': 517,\n",
       " 'left_hip': 413,\n",
       " 'left_knee': 448,\n",
       " 'left_ankle': 514,\n",
       " 'right_eye': 297,\n",
       " 'left_eye': 302,\n",
       " 'right_ear': 294,\n",
       " 'left_ear': 363}"
      ]
     },
     "execution_count": 26,
     "metadata": {},
     "output_type": "execute_result"
    }
   ],
   "source": [
    "yy[0]"
   ]
  },
  {
   "cell_type": "code",
   "execution_count": 22,
   "metadata": {},
   "outputs": [
    {
     "data": {
      "text/plain": [
       "(241, 241)"
      ]
     },
     "execution_count": 22,
     "metadata": {},
     "output_type": "execute_result"
    }
   ],
   "source": [
    "len(xx), len(yy)"
   ]
  },
  {
   "cell_type": "code",
   "execution_count": 15,
   "metadata": {},
   "outputs": [],
   "source": [
    "df = pd.DataFrame(cc)"
   ]
  },
  {
   "cell_type": "code",
   "execution_count": 16,
   "metadata": {},
   "outputs": [
    {
     "data": {
      "text/html": [
       "<div>\n",
       "<style scoped>\n",
       "    .dataframe tbody tr th:only-of-type {\n",
       "        vertical-align: middle;\n",
       "    }\n",
       "\n",
       "    .dataframe tbody tr th {\n",
       "        vertical-align: top;\n",
       "    }\n",
       "\n",
       "    .dataframe thead th {\n",
       "        text-align: right;\n",
       "    }\n",
       "</style>\n",
       "<table border=\"1\" class=\"dataframe\">\n",
       "  <thead>\n",
       "    <tr style=\"text-align: right;\">\n",
       "      <th></th>\n",
       "      <th>right_elbow</th>\n",
       "      <th>left_ankle</th>\n",
       "      <th>left_ear</th>\n",
       "      <th>left_elbow</th>\n",
       "      <th>left_eye</th>\n",
       "      <th>left_hip</th>\n",
       "      <th>left_knee</th>\n",
       "      <th>left_shoulder</th>\n",
       "      <th>left_wrist</th>\n",
       "      <th>neck</th>\n",
       "      <th>nose</th>\n",
       "      <th>right_ankle</th>\n",
       "      <th>right_ear</th>\n",
       "      <th>right_eye</th>\n",
       "      <th>right_hip</th>\n",
       "      <th>right_knee</th>\n",
       "      <th>right_shoulder</th>\n",
       "      <th>right_wrist</th>\n",
       "    </tr>\n",
       "  </thead>\n",
       "  <tbody>\n",
       "    <tr>\n",
       "      <th>0</th>\n",
       "      <td>(626, 415)</td>\n",
       "      <td>(708, 514)</td>\n",
       "      <td>(687, 363)</td>\n",
       "      <td>(726, 431)</td>\n",
       "      <td>(876, 302)</td>\n",
       "      <td>(691, 413)</td>\n",
       "      <td>(705, 448)</td>\n",
       "      <td>(870, 329)</td>\n",
       "      <td>(691, 416)</td>\n",
       "      <td>(854, 324)</td>\n",
       "      <td>(871, 304)</td>\n",
       "      <td>(630, 517)</td>\n",
       "      <td>(857, 294)</td>\n",
       "      <td>(868, 297)</td>\n",
       "      <td>(651, 413)</td>\n",
       "      <td>(629, 449)</td>\n",
       "      <td>(839, 320)</td>\n",
       "      <td>(391, 354)</td>\n",
       "    </tr>\n",
       "    <tr>\n",
       "      <th>1</th>\n",
       "      <td>(625, 414)</td>\n",
       "      <td>(708, 514)</td>\n",
       "      <td>(687, 361)</td>\n",
       "      <td>(726, 431)</td>\n",
       "      <td>(876, 302)</td>\n",
       "      <td>(691, 413)</td>\n",
       "      <td>(705, 448)</td>\n",
       "      <td>(871, 329)</td>\n",
       "      <td>(691, 416)</td>\n",
       "      <td>(854, 325)</td>\n",
       "      <td>(871, 304)</td>\n",
       "      <td>(630, 517)</td>\n",
       "      <td>(857, 294)</td>\n",
       "      <td>(868, 297)</td>\n",
       "      <td>(651, 413)</td>\n",
       "      <td>(629, 449)</td>\n",
       "      <td>(839, 320)</td>\n",
       "      <td>(392, 354)</td>\n",
       "    </tr>\n",
       "    <tr>\n",
       "      <th>2</th>\n",
       "      <td>(627, 415)</td>\n",
       "      <td>(708, 514)</td>\n",
       "      <td>(687, 363)</td>\n",
       "      <td>(727, 432)</td>\n",
       "      <td>(876, 302)</td>\n",
       "      <td>(691, 413)</td>\n",
       "      <td>(704, 447)</td>\n",
       "      <td>(870, 332)</td>\n",
       "      <td>(694, 417)</td>\n",
       "      <td>(853, 326)</td>\n",
       "      <td>(871, 304)</td>\n",
       "      <td>(735, 163)</td>\n",
       "      <td>(858, 294)</td>\n",
       "      <td>(868, 297)</td>\n",
       "      <td>(650, 413)</td>\n",
       "      <td>(629, 448)</td>\n",
       "      <td>(836, 319)</td>\n",
       "      <td>(391, 355)</td>\n",
       "    </tr>\n",
       "    <tr>\n",
       "      <th>3</th>\n",
       "      <td>(379, 329)</td>\n",
       "      <td>(708, 514)</td>\n",
       "      <td>(687, 364)</td>\n",
       "      <td>(727, 432)</td>\n",
       "      <td>(876, 301)</td>\n",
       "      <td>(691, 413)</td>\n",
       "      <td>(704, 447)</td>\n",
       "      <td>(871, 332)</td>\n",
       "      <td>(693, 417)</td>\n",
       "      <td>(854, 326)</td>\n",
       "      <td>(871, 304)</td>\n",
       "      <td>(735, 163)</td>\n",
       "      <td>(858, 295)</td>\n",
       "      <td>(868, 297)</td>\n",
       "      <td>(650, 413)</td>\n",
       "      <td>(629, 449)</td>\n",
       "      <td>(837, 320)</td>\n",
       "      <td>(392, 354)</td>\n",
       "    </tr>\n",
       "    <tr>\n",
       "      <th>4</th>\n",
       "      <td>(622, 416)</td>\n",
       "      <td>(708, 514)</td>\n",
       "      <td>(687, 363)</td>\n",
       "      <td>(902, 345)</td>\n",
       "      <td>(876, 302)</td>\n",
       "      <td>(690, 412)</td>\n",
       "      <td>(704, 447)</td>\n",
       "      <td>(872, 330)</td>\n",
       "      <td>(695, 417)</td>\n",
       "      <td>(854, 325)</td>\n",
       "      <td>(871, 304)</td>\n",
       "      <td>(734, 164)</td>\n",
       "      <td>(858, 294)</td>\n",
       "      <td>(868, 297)</td>\n",
       "      <td>(650, 413)</td>\n",
       "      <td>(629, 450)</td>\n",
       "      <td>(837, 321)</td>\n",
       "      <td>(392, 355)</td>\n",
       "    </tr>\n",
       "  </tbody>\n",
       "</table>\n",
       "</div>"
      ],
      "text/plain": [
       "   right_elbow  left_ankle    left_ear  left_elbow    left_eye    left_hip  \\\n",
       "0   (626, 415)  (708, 514)  (687, 363)  (726, 431)  (876, 302)  (691, 413)   \n",
       "1   (625, 414)  (708, 514)  (687, 361)  (726, 431)  (876, 302)  (691, 413)   \n",
       "2   (627, 415)  (708, 514)  (687, 363)  (727, 432)  (876, 302)  (691, 413)   \n",
       "3   (379, 329)  (708, 514)  (687, 364)  (727, 432)  (876, 301)  (691, 413)   \n",
       "4   (622, 416)  (708, 514)  (687, 363)  (902, 345)  (876, 302)  (690, 412)   \n",
       "\n",
       "    left_knee left_shoulder  left_wrist        neck        nose right_ankle  \\\n",
       "0  (705, 448)    (870, 329)  (691, 416)  (854, 324)  (871, 304)  (630, 517)   \n",
       "1  (705, 448)    (871, 329)  (691, 416)  (854, 325)  (871, 304)  (630, 517)   \n",
       "2  (704, 447)    (870, 332)  (694, 417)  (853, 326)  (871, 304)  (735, 163)   \n",
       "3  (704, 447)    (871, 332)  (693, 417)  (854, 326)  (871, 304)  (735, 163)   \n",
       "4  (704, 447)    (872, 330)  (695, 417)  (854, 325)  (871, 304)  (734, 164)   \n",
       "\n",
       "    right_ear   right_eye   right_hip  right_knee right_shoulder right_wrist  \n",
       "0  (857, 294)  (868, 297)  (651, 413)  (629, 449)     (839, 320)  (391, 354)  \n",
       "1  (857, 294)  (868, 297)  (651, 413)  (629, 449)     (839, 320)  (392, 354)  \n",
       "2  (858, 294)  (868, 297)  (650, 413)  (629, 448)     (836, 319)  (391, 355)  \n",
       "3  (858, 295)  (868, 297)  (650, 413)  (629, 449)     (837, 320)  (392, 354)  \n",
       "4  (858, 294)  (868, 297)  (650, 413)  (629, 450)     (837, 321)  (392, 355)  "
      ]
     },
     "execution_count": 16,
     "metadata": {},
     "output_type": "execute_result"
    }
   ],
   "source": [
    "df.head()"
   ]
  },
  {
   "cell_type": "code",
   "execution_count": 17,
   "metadata": {},
   "outputs": [
    {
     "data": {
      "text/plain": [
       "(241, 18)"
      ]
     },
     "execution_count": 17,
     "metadata": {},
     "output_type": "execute_result"
    }
   ],
   "source": [
    "df.shape"
   ]
  },
  {
   "cell_type": "code",
   "execution_count": 23,
   "metadata": {},
   "outputs": [],
   "source": [
    "xx_ = pd.DataFrame(xx)\n",
    "yy_ = pd.DataFrame(yy)"
   ]
  },
  {
   "cell_type": "code",
   "execution_count": 25,
   "metadata": {},
   "outputs": [],
   "source": [
    "xx_.to_csv(\"./x_c.csv\", index=False)\n",
    "yy_.to_csv(\"./y_c.csv\", index=False)"
   ]
  },
  {
   "cell_type": "code",
   "execution_count": 27,
   "metadata": {},
   "outputs": [
    {
     "name": "stdout",
     "output_type": "stream",
     "text": [
      "/home/ashish/Downloads/Repos/keras_Realtime_Multi-Person_Pose_Estimation-master\r\n"
     ]
    }
   ],
   "source": [
    "!pwd"
   ]
  },
  {
   "cell_type": "code",
   "execution_count": null,
   "metadata": {},
   "outputs": [],
   "source": []
  }
 ],
 "metadata": {
  "kernelspec": {
   "display_name": "Python 3",
   "language": "python",
   "name": "python3"
  },
  "language_info": {
   "codemirror_mode": {
    "name": "ipython",
    "version": 3
   },
   "file_extension": ".py",
   "mimetype": "text/x-python",
   "name": "python",
   "nbconvert_exporter": "python",
   "pygments_lexer": "ipython3",
   "version": "3.7.6"
  }
 },
 "nbformat": 4,
 "nbformat_minor": 2
}
